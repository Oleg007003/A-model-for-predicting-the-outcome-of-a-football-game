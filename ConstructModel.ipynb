{
  "nbformat": 4,
  "nbformat_minor": 0,
  "metadata": {
    "colab": {
      "name": "Хакатон.ipynb",
      "provenance": [],
      "collapsed_sections": [
        "zRqVd1ajbOHT"
      ],
      "authorship_tag": "ABX9TyPyKb3UMLCOYRsJsMnkcKDV",
      "include_colab_link": true
    },
    "kernelspec": {
      "name": "python3",
      "display_name": "Python 3"
    },
    "language_info": {
      "name": "python"
    }
  },
  "cells": [
    {
      "cell_type": "markdown",
      "metadata": {
        "id": "view-in-github",
        "colab_type": "text"
      },
      "source": [
        "<a href=\"https://colab.research.google.com/github/Oleg007003/A-model-for-predicting-the-outcome-of-a-football-game/blob/main/ConstructModel.ipynb\" target=\"_parent\"><img src=\"https://colab.research.google.com/assets/colab-badge.svg\" alt=\"Open In Colab\"/></a>"
      ]
    },
    {
      "cell_type": "markdown",
      "metadata": {
        "id": "NC6NRpfsX3OO"
      },
      "source": [
        "План действий:\n",
        "\n",
        "1)Вписать каждому игроку свои личное характеристики +\n",
        "\n",
        "1.1)Исследовать дивизион\n",
        "\n",
        "2)Наклепать модели\n",
        "\n",
        "3)Наклепать дополнительные признаки, улучшающие модель\n",
        "\n",
        "4)Научить выборку дообучаться online\n",
        "\n",
        "5)Сохранить модели"
      ]
    },
    {
      "cell_type": "markdown",
      "metadata": {
        "id": "leKY3fLmLwJw"
      },
      "source": [
        "# Блок с загрузкой данных"
      ]
    },
    {
      "cell_type": "code",
      "metadata": {
        "colab": {
          "base_uri": "https://localhost:8080/"
        },
        "id": "ZJ6tdVqIluKd",
        "outputId": "1f802e3e-f5a7-4d9d-c220-ee339cdec027"
      },
      "source": [
        "!pip install catboost"
      ],
      "execution_count": null,
      "outputs": [
        {
          "output_type": "stream",
          "text": [
            "Requirement already satisfied: catboost in /usr/local/lib/python3.7/dist-packages (0.25.1)\n",
            "Requirement already satisfied: scipy in /usr/local/lib/python3.7/dist-packages (from catboost) (1.4.1)\n",
            "Requirement already satisfied: numpy>=1.16.0 in /usr/local/lib/python3.7/dist-packages (from catboost) (1.19.5)\n",
            "Requirement already satisfied: plotly in /usr/local/lib/python3.7/dist-packages (from catboost) (4.4.1)\n",
            "Requirement already satisfied: matplotlib in /usr/local/lib/python3.7/dist-packages (from catboost) (3.2.2)\n",
            "Requirement already satisfied: six in /usr/local/lib/python3.7/dist-packages (from catboost) (1.15.0)\n",
            "Requirement already satisfied: pandas>=0.24.0 in /usr/local/lib/python3.7/dist-packages (from catboost) (1.1.5)\n",
            "Requirement already satisfied: graphviz in /usr/local/lib/python3.7/dist-packages (from catboost) (0.10.1)\n",
            "Requirement already satisfied: retrying>=1.3.3 in /usr/local/lib/python3.7/dist-packages (from plotly->catboost) (1.3.3)\n",
            "Requirement already satisfied: pyparsing!=2.0.4,!=2.1.2,!=2.1.6,>=2.0.1 in /usr/local/lib/python3.7/dist-packages (from matplotlib->catboost) (2.4.7)\n",
            "Requirement already satisfied: cycler>=0.10 in /usr/local/lib/python3.7/dist-packages (from matplotlib->catboost) (0.10.0)\n",
            "Requirement already satisfied: kiwisolver>=1.0.1 in /usr/local/lib/python3.7/dist-packages (from matplotlib->catboost) (1.3.1)\n",
            "Requirement already satisfied: python-dateutil>=2.1 in /usr/local/lib/python3.7/dist-packages (from matplotlib->catboost) (2.8.1)\n",
            "Requirement already satisfied: pytz>=2017.2 in /usr/local/lib/python3.7/dist-packages (from pandas>=0.24.0->catboost) (2018.9)\n"
          ],
          "name": "stdout"
        }
      ]
    },
    {
      "cell_type": "code",
      "metadata": {
        "id": "rrlMDua5II1a"
      },
      "source": [
        "import numpy as np\n",
        "from matplotlib import pyplot as plt\n",
        "import catboost as cb\n",
        "import keras\n",
        "from sklearn.model_selection import train_test_split\n",
        "import pandas as pd\n",
        "from sklearn.preprocessing import normalize\n",
        "import math\n",
        "from pandas.plotting import table "
      ],
      "execution_count": null,
      "outputs": []
    },
    {
      "cell_type": "code",
      "metadata": {
        "id": "EMDDhwGxIqsc"
      },
      "source": [
        "data = pd.read_csv('http://assets.codeforces.com/rounds/1522/3056cab52876d3327edafe4771c8589a96cb1a93/train.csv')\n",
        "del data[data.columns[0]]"
      ],
      "execution_count": null,
      "outputs": []
    },
    {
      "cell_type": "code",
      "metadata": {
        "colab": {
          "base_uri": "https://localhost:8080/",
          "height": 365
        },
        "id": "Qd95DbZSIwUj",
        "outputId": "49a61ac4-c782-4392-dcd7-255ad7057053"
      },
      "source": [
        "data.head(10)"
      ],
      "execution_count": null,
      "outputs": [
        {
          "output_type": "execute_result",
          "data": {
            "text/html": [
              "<div>\n",
              "<style scoped>\n",
              "    .dataframe tbody tr th:only-of-type {\n",
              "        vertical-align: middle;\n",
              "    }\n",
              "\n",
              "    .dataframe tbody tr th {\n",
              "        vertical-align: top;\n",
              "    }\n",
              "\n",
              "    .dataframe thead th {\n",
              "        text-align: right;\n",
              "    }\n",
              "</style>\n",
              "<table border=\"1\" class=\"dataframe\">\n",
              "  <thead>\n",
              "    <tr style=\"text-align: right;\">\n",
              "      <th></th>\n",
              "      <th>Division</th>\n",
              "      <th>Time</th>\n",
              "      <th>home_team</th>\n",
              "      <th>away_team</th>\n",
              "      <th>full_time_home_goals</th>\n",
              "      <th>full_time_away_goals</th>\n",
              "      <th>half_time_home_goals</th>\n",
              "      <th>half_time_away_goals</th>\n",
              "      <th>Referee</th>\n",
              "      <th>home_shots</th>\n",
              "      <th>away_shots</th>\n",
              "      <th>home_shots_on_target</th>\n",
              "      <th>away_shots_on_target</th>\n",
              "      <th>home_fouls</th>\n",
              "      <th>away_fouls</th>\n",
              "      <th>home_corners</th>\n",
              "      <th>away_corners</th>\n",
              "      <th>home_yellow_cards</th>\n",
              "      <th>away_yellow_cards</th>\n",
              "      <th>home_red_cards</th>\n",
              "      <th>away_red_cards</th>\n",
              "      <th>home_coef</th>\n",
              "      <th>draw_coef</th>\n",
              "      <th>away_coef</th>\n",
              "    </tr>\n",
              "  </thead>\n",
              "  <tbody>\n",
              "    <tr>\n",
              "      <th>0</th>\n",
              "      <td>0</td>\n",
              "      <td>NaN</td>\n",
              "      <td>152.0</td>\n",
              "      <td>426.0</td>\n",
              "      <td>0.0</td>\n",
              "      <td>0.0</td>\n",
              "      <td>0.0</td>\n",
              "      <td>0.0</td>\n",
              "      <td>-1</td>\n",
              "      <td>NaN</td>\n",
              "      <td>NaN</td>\n",
              "      <td>NaN</td>\n",
              "      <td>NaN</td>\n",
              "      <td>NaN</td>\n",
              "      <td>NaN</td>\n",
              "      <td>NaN</td>\n",
              "      <td>NaN</td>\n",
              "      <td>NaN</td>\n",
              "      <td>NaN</td>\n",
              "      <td>NaN</td>\n",
              "      <td>NaN</td>\n",
              "      <td>3.627690</td>\n",
              "      <td>3.577721</td>\n",
              "      <td>2.198600</td>\n",
              "    </tr>\n",
              "    <tr>\n",
              "      <th>1</th>\n",
              "      <td>0</td>\n",
              "      <td>NaN</td>\n",
              "      <td>216.0</td>\n",
              "      <td>341.0</td>\n",
              "      <td>2.0</td>\n",
              "      <td>2.0</td>\n",
              "      <td>0.0</td>\n",
              "      <td>1.0</td>\n",
              "      <td>-1</td>\n",
              "      <td>NaN</td>\n",
              "      <td>NaN</td>\n",
              "      <td>NaN</td>\n",
              "      <td>NaN</td>\n",
              "      <td>NaN</td>\n",
              "      <td>NaN</td>\n",
              "      <td>NaN</td>\n",
              "      <td>NaN</td>\n",
              "      <td>NaN</td>\n",
              "      <td>NaN</td>\n",
              "      <td>NaN</td>\n",
              "      <td>NaN</td>\n",
              "      <td>1.608321</td>\n",
              "      <td>4.251999</td>\n",
              "      <td>6.533805</td>\n",
              "    </tr>\n",
              "    <tr>\n",
              "      <th>2</th>\n",
              "      <td>0</td>\n",
              "      <td>NaN</td>\n",
              "      <td>223.0</td>\n",
              "      <td>119.0</td>\n",
              "      <td>2.0</td>\n",
              "      <td>2.0</td>\n",
              "      <td>2.0</td>\n",
              "      <td>0.0</td>\n",
              "      <td>-1</td>\n",
              "      <td>NaN</td>\n",
              "      <td>NaN</td>\n",
              "      <td>NaN</td>\n",
              "      <td>NaN</td>\n",
              "      <td>NaN</td>\n",
              "      <td>NaN</td>\n",
              "      <td>NaN</td>\n",
              "      <td>NaN</td>\n",
              "      <td>NaN</td>\n",
              "      <td>NaN</td>\n",
              "      <td>NaN</td>\n",
              "      <td>NaN</td>\n",
              "      <td>2.166811</td>\n",
              "      <td>3.486596</td>\n",
              "      <td>3.821467</td>\n",
              "    </tr>\n",
              "    <tr>\n",
              "      <th>3</th>\n",
              "      <td>0</td>\n",
              "      <td>NaN</td>\n",
              "      <td>68.0</td>\n",
              "      <td>137.0</td>\n",
              "      <td>2.0</td>\n",
              "      <td>1.0</td>\n",
              "      <td>0.0</td>\n",
              "      <td>1.0</td>\n",
              "      <td>-1</td>\n",
              "      <td>NaN</td>\n",
              "      <td>NaN</td>\n",
              "      <td>NaN</td>\n",
              "      <td>NaN</td>\n",
              "      <td>NaN</td>\n",
              "      <td>NaN</td>\n",
              "      <td>NaN</td>\n",
              "      <td>NaN</td>\n",
              "      <td>NaN</td>\n",
              "      <td>NaN</td>\n",
              "      <td>NaN</td>\n",
              "      <td>NaN</td>\n",
              "      <td>2.259244</td>\n",
              "      <td>3.592401</td>\n",
              "      <td>3.460103</td>\n",
              "    </tr>\n",
              "    <tr>\n",
              "      <th>4</th>\n",
              "      <td>1</td>\n",
              "      <td>NaN</td>\n",
              "      <td>425.0</td>\n",
              "      <td>225.0</td>\n",
              "      <td>2.0</td>\n",
              "      <td>2.0</td>\n",
              "      <td>1.0</td>\n",
              "      <td>0.0</td>\n",
              "      <td>-1</td>\n",
              "      <td>13.0</td>\n",
              "      <td>11.0</td>\n",
              "      <td>5.0</td>\n",
              "      <td>7.0</td>\n",
              "      <td>18.0</td>\n",
              "      <td>15.0</td>\n",
              "      <td>4.0</td>\n",
              "      <td>10.0</td>\n",
              "      <td>3.0</td>\n",
              "      <td>4.0</td>\n",
              "      <td>1.0</td>\n",
              "      <td>0.0</td>\n",
              "      <td>2.424278</td>\n",
              "      <td>3.414191</td>\n",
              "      <td>3.282876</td>\n",
              "    </tr>\n",
              "    <tr>\n",
              "      <th>5</th>\n",
              "      <td>1</td>\n",
              "      <td>NaN</td>\n",
              "      <td>393.0</td>\n",
              "      <td>300.0</td>\n",
              "      <td>0.0</td>\n",
              "      <td>0.0</td>\n",
              "      <td>0.0</td>\n",
              "      <td>0.0</td>\n",
              "      <td>-1</td>\n",
              "      <td>6.0</td>\n",
              "      <td>6.0</td>\n",
              "      <td>1.0</td>\n",
              "      <td>2.0</td>\n",
              "      <td>9.0</td>\n",
              "      <td>13.0</td>\n",
              "      <td>6.0</td>\n",
              "      <td>8.0</td>\n",
              "      <td>1.0</td>\n",
              "      <td>0.0</td>\n",
              "      <td>0.0</td>\n",
              "      <td>0.0</td>\n",
              "      <td>2.787163</td>\n",
              "      <td>3.375001</td>\n",
              "      <td>2.817568</td>\n",
              "    </tr>\n",
              "    <tr>\n",
              "      <th>6</th>\n",
              "      <td>1</td>\n",
              "      <td>NaN</td>\n",
              "      <td>239.0</td>\n",
              "      <td>140.0</td>\n",
              "      <td>0.0</td>\n",
              "      <td>0.0</td>\n",
              "      <td>0.0</td>\n",
              "      <td>0.0</td>\n",
              "      <td>-1</td>\n",
              "      <td>16.0</td>\n",
              "      <td>4.0</td>\n",
              "      <td>8.0</td>\n",
              "      <td>1.0</td>\n",
              "      <td>9.0</td>\n",
              "      <td>16.0</td>\n",
              "      <td>6.0</td>\n",
              "      <td>1.0</td>\n",
              "      <td>0.0</td>\n",
              "      <td>2.0</td>\n",
              "      <td>0.0</td>\n",
              "      <td>0.0</td>\n",
              "      <td>2.080239</td>\n",
              "      <td>3.582070</td>\n",
              "      <td>3.998117</td>\n",
              "    </tr>\n",
              "    <tr>\n",
              "      <th>7</th>\n",
              "      <td>1</td>\n",
              "      <td>NaN</td>\n",
              "      <td>211.0</td>\n",
              "      <td>424.0</td>\n",
              "      <td>2.0</td>\n",
              "      <td>0.0</td>\n",
              "      <td>1.0</td>\n",
              "      <td>0.0</td>\n",
              "      <td>-1</td>\n",
              "      <td>18.0</td>\n",
              "      <td>5.0</td>\n",
              "      <td>7.0</td>\n",
              "      <td>3.0</td>\n",
              "      <td>12.0</td>\n",
              "      <td>10.0</td>\n",
              "      <td>6.0</td>\n",
              "      <td>6.0</td>\n",
              "      <td>2.0</td>\n",
              "      <td>1.0</td>\n",
              "      <td>0.0</td>\n",
              "      <td>1.0</td>\n",
              "      <td>2.099892</td>\n",
              "      <td>3.449822</td>\n",
              "      <td>4.099789</td>\n",
              "    </tr>\n",
              "    <tr>\n",
              "      <th>8</th>\n",
              "      <td>1</td>\n",
              "      <td>NaN</td>\n",
              "      <td>99.0</td>\n",
              "      <td>5.0</td>\n",
              "      <td>1.0</td>\n",
              "      <td>0.0</td>\n",
              "      <td>0.0</td>\n",
              "      <td>0.0</td>\n",
              "      <td>-1</td>\n",
              "      <td>9.0</td>\n",
              "      <td>5.0</td>\n",
              "      <td>5.0</td>\n",
              "      <td>2.0</td>\n",
              "      <td>5.0</td>\n",
              "      <td>9.0</td>\n",
              "      <td>6.0</td>\n",
              "      <td>4.0</td>\n",
              "      <td>0.0</td>\n",
              "      <td>1.0</td>\n",
              "      <td>0.0</td>\n",
              "      <td>0.0</td>\n",
              "      <td>1.312957</td>\n",
              "      <td>5.807312</td>\n",
              "      <td>13.129574</td>\n",
              "    </tr>\n",
              "    <tr>\n",
              "      <th>9</th>\n",
              "      <td>0</td>\n",
              "      <td>NaN</td>\n",
              "      <td>303.0</td>\n",
              "      <td>382.0</td>\n",
              "      <td>1.0</td>\n",
              "      <td>0.0</td>\n",
              "      <td>1.0</td>\n",
              "      <td>0.0</td>\n",
              "      <td>-1</td>\n",
              "      <td>NaN</td>\n",
              "      <td>NaN</td>\n",
              "      <td>NaN</td>\n",
              "      <td>NaN</td>\n",
              "      <td>NaN</td>\n",
              "      <td>NaN</td>\n",
              "      <td>NaN</td>\n",
              "      <td>NaN</td>\n",
              "      <td>NaN</td>\n",
              "      <td>NaN</td>\n",
              "      <td>NaN</td>\n",
              "      <td>NaN</td>\n",
              "      <td>1.528475</td>\n",
              "      <td>4.476952</td>\n",
              "      <td>7.553624</td>\n",
              "    </tr>\n",
              "  </tbody>\n",
              "</table>\n",
              "</div>"
            ],
            "text/plain": [
              "   Division  Time  home_team  ...  home_coef  draw_coef  away_coef\n",
              "0         0   NaN      152.0  ...   3.627690   3.577721   2.198600\n",
              "1         0   NaN      216.0  ...   1.608321   4.251999   6.533805\n",
              "2         0   NaN      223.0  ...   2.166811   3.486596   3.821467\n",
              "3         0   NaN       68.0  ...   2.259244   3.592401   3.460103\n",
              "4         1   NaN      425.0  ...   2.424278   3.414191   3.282876\n",
              "5         1   NaN      393.0  ...   2.787163   3.375001   2.817568\n",
              "6         1   NaN      239.0  ...   2.080239   3.582070   3.998117\n",
              "7         1   NaN      211.0  ...   2.099892   3.449822   4.099789\n",
              "8         1   NaN       99.0  ...   1.312957   5.807312  13.129574\n",
              "9         0   NaN      303.0  ...   1.528475   4.476952   7.553624\n",
              "\n",
              "[10 rows x 24 columns]"
            ]
          },
          "metadata": {
            "tags": []
          },
          "execution_count": 1948
        }
      ]
    },
    {
      "cell_type": "code",
      "metadata": {
        "colab": {
          "base_uri": "https://localhost:8080/"
        },
        "id": "incISRydhJCc",
        "outputId": "32511e2a-c699-4e73-aeba-3ec5b3ee0a48"
      },
      "source": [
        "data.shape"
      ],
      "execution_count": null,
      "outputs": [
        {
          "output_type": "execute_result",
          "data": {
            "text/plain": [
              "(39992, 24)"
            ]
          },
          "metadata": {
            "tags": []
          },
          "execution_count": 1949
        }
      ]
    },
    {
      "cell_type": "markdown",
      "metadata": {
        "id": "h9OqfD5Ul2xo"
      },
      "source": [
        "Для обработки пропусков заполним их просто средними значениями"
      ]
    },
    {
      "cell_type": "code",
      "metadata": {
        "id": "00nLiXGCj9qX"
      },
      "source": [
        "for i in range(9, 21):\n",
        "  name = data.columns[i]\n",
        "  data[name] = data[name].fillna(data[name].mean())"
      ],
      "execution_count": null,
      "outputs": []
    },
    {
      "cell_type": "markdown",
      "metadata": {
        "id": "KjdNNpyZZ6xn"
      },
      "source": [
        "Добавим признаков с результатом игры"
      ]
    },
    {
      "cell_type": "code",
      "metadata": {
        "id": "cwxVScXCSLhK"
      },
      "source": [
        "data['is_draw'] = (data['full_time_home_goals'] == data['full_time_away_goals']) + 0\n",
        "data['is_win'] = (data['full_time_home_goals'] > data['full_time_away_goals']) + 0\n",
        "data['is_lose'] = (data['full_time_home_goals'] < data['full_time_away_goals']) + 0\n",
        "data['result'] = data['is_win'] - data['is_lose']"
      ],
      "execution_count": null,
      "outputs": []
    },
    {
      "cell_type": "code",
      "metadata": {
        "colab": {
          "base_uri": "https://localhost:8080/"
        },
        "id": "8jS2tcm8BMHL",
        "outputId": "1796eff0-61fa-4f72-b8e7-1d78a19fa887"
      },
      "source": [
        "#data = data[data['Division'] == 0]\n",
        "data.shape"
      ],
      "execution_count": null,
      "outputs": [
        {
          "output_type": "execute_result",
          "data": {
            "text/plain": [
              "(1789, 28)"
            ]
          },
          "metadata": {
            "tags": []
          },
          "execution_count": 1952
        }
      ]
    },
    {
      "cell_type": "code",
      "metadata": {
        "id": "uRnxD9rCJSnV"
      },
      "source": [
        "X = data.drop(['is_win', 'is_draw', 'is_lose', 'result', 'full_time_home_goals', 'full_time_away_goals', 'half_time_home_goals', 'half_time_away_goals'], axis = 1)\n",
        "y = data[['is_win', 'is_draw', 'is_lose', 'result', 'full_time_home_goals', 'full_time_away_goals', 'half_time_home_goals', 'half_time_away_goals']]\n",
        "Priznak = data.copy()\n",
        "del Priznak['result']\n",
        "X_train, X_test, y_train, y_test = train_test_split(X, y, test_size = 0.15, random_state= 13, shuffle = False)\n",
        "Priznak_train, Priznak_test = train_test_split(Priznak, test_size = 0.15, random_state= 13, shuffle = False)"
      ],
      "execution_count": null,
      "outputs": []
    },
    {
      "cell_type": "code",
      "metadata": {
        "id": "TxFv8LijCAiC"
      },
      "source": [
        "del Priznak_train['Referee']"
      ],
      "execution_count": null,
      "outputs": []
    },
    {
      "cell_type": "code",
      "metadata": {
        "colab": {
          "base_uri": "https://localhost:8080/"
        },
        "id": "APdrMejtX1wn",
        "outputId": "1e71c351-5c37-4a67-d52f-d1538813df20"
      },
      "source": [
        "comands_home = data['home_team'].unique()\n",
        "comands_away = data['away_team'].unique()\n",
        "print(comands_home, comands_away, sep='\\n')\n",
        "  #print(row[['home_team', 'away_team', 'result']])"
      ],
      "execution_count": null,
      "outputs": [
        {
          "output_type": "stream",
          "text": [
            "[152. 216. 223.  68. 303.  75. 138. 399. 232. 164. 119.   4. 426. 341.\n",
            " 455. 177. 382. 137. 200. 176.  63. 235. 373. 323. 213. 129. 178. 435.\n",
            " 209. 486. 219.]\n",
            "[426. 341. 119. 137. 382. 164.   4. 177. 455. 399. 152. 232. 223.  68.\n",
            "  75. 216. 138. 303.  63. 235. 200. 176. 213. 373. 129. 323. 178. 209.\n",
            " 486. 435. 219.]\n"
          ],
          "name": "stdout"
        }
      ]
    },
    {
      "cell_type": "markdown",
      "metadata": {
        "id": "To_6YMlvnNqx"
      },
      "source": [
        "Посмотрим на корреляцию наших признаков с итогами игры"
      ]
    },
    {
      "cell_type": "code",
      "metadata": {
        "id": "vJg7T5Bxmi99"
      },
      "source": [
        "tX = X.copy()\n",
        "tX['ans'] = y['result']\n",
        "cr = tX.corr()"
      ],
      "execution_count": null,
      "outputs": []
    },
    {
      "cell_type": "code",
      "metadata": {
        "colab": {
          "base_uri": "https://localhost:8080/",
          "height": 693
        },
        "id": "2nhMG25PuDss",
        "outputId": "54f1633b-31ba-46ca-dfe6-8a512ba7df97"
      },
      "source": [
        "cr"
      ],
      "execution_count": null,
      "outputs": [
        {
          "output_type": "execute_result",
          "data": {
            "text/html": [
              "<div>\n",
              "<style scoped>\n",
              "    .dataframe tbody tr th:only-of-type {\n",
              "        vertical-align: middle;\n",
              "    }\n",
              "\n",
              "    .dataframe tbody tr th {\n",
              "        vertical-align: top;\n",
              "    }\n",
              "\n",
              "    .dataframe thead th {\n",
              "        text-align: right;\n",
              "    }\n",
              "</style>\n",
              "<table border=\"1\" class=\"dataframe\">\n",
              "  <thead>\n",
              "    <tr style=\"text-align: right;\">\n",
              "      <th></th>\n",
              "      <th>Division</th>\n",
              "      <th>Time</th>\n",
              "      <th>home_team</th>\n",
              "      <th>away_team</th>\n",
              "      <th>Referee</th>\n",
              "      <th>home_shots</th>\n",
              "      <th>away_shots</th>\n",
              "      <th>home_shots_on_target</th>\n",
              "      <th>away_shots_on_target</th>\n",
              "      <th>home_fouls</th>\n",
              "      <th>away_fouls</th>\n",
              "      <th>home_corners</th>\n",
              "      <th>away_corners</th>\n",
              "      <th>home_yellow_cards</th>\n",
              "      <th>away_yellow_cards</th>\n",
              "      <th>home_red_cards</th>\n",
              "      <th>away_red_cards</th>\n",
              "      <th>home_coef</th>\n",
              "      <th>draw_coef</th>\n",
              "      <th>away_coef</th>\n",
              "      <th>ans</th>\n",
              "    </tr>\n",
              "  </thead>\n",
              "  <tbody>\n",
              "    <tr>\n",
              "      <th>Division</th>\n",
              "      <td>NaN</td>\n",
              "      <td>NaN</td>\n",
              "      <td>NaN</td>\n",
              "      <td>NaN</td>\n",
              "      <td>NaN</td>\n",
              "      <td>NaN</td>\n",
              "      <td>NaN</td>\n",
              "      <td>NaN</td>\n",
              "      <td>NaN</td>\n",
              "      <td>NaN</td>\n",
              "      <td>NaN</td>\n",
              "      <td>NaN</td>\n",
              "      <td>NaN</td>\n",
              "      <td>NaN</td>\n",
              "      <td>NaN</td>\n",
              "      <td>NaN</td>\n",
              "      <td>NaN</td>\n",
              "      <td>NaN</td>\n",
              "      <td>NaN</td>\n",
              "      <td>NaN</td>\n",
              "      <td>NaN</td>\n",
              "    </tr>\n",
              "    <tr>\n",
              "      <th>Time</th>\n",
              "      <td>NaN</td>\n",
              "      <td>NaN</td>\n",
              "      <td>NaN</td>\n",
              "      <td>NaN</td>\n",
              "      <td>NaN</td>\n",
              "      <td>NaN</td>\n",
              "      <td>NaN</td>\n",
              "      <td>NaN</td>\n",
              "      <td>NaN</td>\n",
              "      <td>NaN</td>\n",
              "      <td>NaN</td>\n",
              "      <td>NaN</td>\n",
              "      <td>NaN</td>\n",
              "      <td>NaN</td>\n",
              "      <td>NaN</td>\n",
              "      <td>NaN</td>\n",
              "      <td>NaN</td>\n",
              "      <td>NaN</td>\n",
              "      <td>NaN</td>\n",
              "      <td>NaN</td>\n",
              "      <td>NaN</td>\n",
              "    </tr>\n",
              "    <tr>\n",
              "      <th>home_team</th>\n",
              "      <td>NaN</td>\n",
              "      <td>NaN</td>\n",
              "      <td>1.000000</td>\n",
              "      <td>-0.044211</td>\n",
              "      <td>NaN</td>\n",
              "      <td>0.003960</td>\n",
              "      <td>-0.050751</td>\n",
              "      <td>-0.003646</td>\n",
              "      <td>-0.046110</td>\n",
              "      <td>-0.001865</td>\n",
              "      <td>0.039086</td>\n",
              "      <td>0.018569</td>\n",
              "      <td>-0.020305</td>\n",
              "      <td>-0.040273</td>\n",
              "      <td>0.020986</td>\n",
              "      <td>0.000476</td>\n",
              "      <td>0.064229</td>\n",
              "      <td>-0.029079</td>\n",
              "      <td>0.047567</td>\n",
              "      <td>0.045907</td>\n",
              "      <td>0.011094</td>\n",
              "    </tr>\n",
              "    <tr>\n",
              "      <th>away_team</th>\n",
              "      <td>NaN</td>\n",
              "      <td>NaN</td>\n",
              "      <td>-0.044211</td>\n",
              "      <td>1.000000</td>\n",
              "      <td>NaN</td>\n",
              "      <td>-0.025658</td>\n",
              "      <td>-0.009323</td>\n",
              "      <td>-0.001442</td>\n",
              "      <td>0.011476</td>\n",
              "      <td>-0.032299</td>\n",
              "      <td>0.009874</td>\n",
              "      <td>0.003157</td>\n",
              "      <td>-0.007818</td>\n",
              "      <td>-0.014067</td>\n",
              "      <td>-0.026472</td>\n",
              "      <td>0.034065</td>\n",
              "      <td>-0.001611</td>\n",
              "      <td>0.017500</td>\n",
              "      <td>0.007918</td>\n",
              "      <td>-0.017430</td>\n",
              "      <td>0.007009</td>\n",
              "    </tr>\n",
              "    <tr>\n",
              "      <th>Referee</th>\n",
              "      <td>NaN</td>\n",
              "      <td>NaN</td>\n",
              "      <td>NaN</td>\n",
              "      <td>NaN</td>\n",
              "      <td>NaN</td>\n",
              "      <td>NaN</td>\n",
              "      <td>NaN</td>\n",
              "      <td>NaN</td>\n",
              "      <td>NaN</td>\n",
              "      <td>NaN</td>\n",
              "      <td>NaN</td>\n",
              "      <td>NaN</td>\n",
              "      <td>NaN</td>\n",
              "      <td>NaN</td>\n",
              "      <td>NaN</td>\n",
              "      <td>NaN</td>\n",
              "      <td>NaN</td>\n",
              "      <td>NaN</td>\n",
              "      <td>NaN</td>\n",
              "      <td>NaN</td>\n",
              "      <td>NaN</td>\n",
              "    </tr>\n",
              "    <tr>\n",
              "      <th>home_shots</th>\n",
              "      <td>NaN</td>\n",
              "      <td>NaN</td>\n",
              "      <td>0.003960</td>\n",
              "      <td>-0.025658</td>\n",
              "      <td>NaN</td>\n",
              "      <td>1.000000</td>\n",
              "      <td>-0.186162</td>\n",
              "      <td>0.522008</td>\n",
              "      <td>-0.092636</td>\n",
              "      <td>0.058785</td>\n",
              "      <td>0.073336</td>\n",
              "      <td>0.447689</td>\n",
              "      <td>-0.290025</td>\n",
              "      <td>0.012835</td>\n",
              "      <td>0.032184</td>\n",
              "      <td>-0.166487</td>\n",
              "      <td>0.109907</td>\n",
              "      <td>-0.064338</td>\n",
              "      <td>-0.001819</td>\n",
              "      <td>0.024443</td>\n",
              "      <td>-0.017375</td>\n",
              "    </tr>\n",
              "    <tr>\n",
              "      <th>away_shots</th>\n",
              "      <td>NaN</td>\n",
              "      <td>NaN</td>\n",
              "      <td>-0.050751</td>\n",
              "      <td>-0.009323</td>\n",
              "      <td>NaN</td>\n",
              "      <td>-0.186162</td>\n",
              "      <td>1.000000</td>\n",
              "      <td>-0.092145</td>\n",
              "      <td>0.526122</td>\n",
              "      <td>0.175967</td>\n",
              "      <td>0.059102</td>\n",
              "      <td>-0.261693</td>\n",
              "      <td>0.369248</td>\n",
              "      <td>0.146645</td>\n",
              "      <td>0.082736</td>\n",
              "      <td>0.124282</td>\n",
              "      <td>-0.048459</td>\n",
              "      <td>0.048558</td>\n",
              "      <td>-0.045782</td>\n",
              "      <td>-0.070484</td>\n",
              "      <td>-0.025709</td>\n",
              "    </tr>\n",
              "    <tr>\n",
              "      <th>home_shots_on_target</th>\n",
              "      <td>NaN</td>\n",
              "      <td>NaN</td>\n",
              "      <td>-0.003646</td>\n",
              "      <td>-0.001442</td>\n",
              "      <td>NaN</td>\n",
              "      <td>0.522008</td>\n",
              "      <td>-0.092145</td>\n",
              "      <td>1.000000</td>\n",
              "      <td>-0.090840</td>\n",
              "      <td>-0.076375</td>\n",
              "      <td>-0.062656</td>\n",
              "      <td>0.225270</td>\n",
              "      <td>-0.085074</td>\n",
              "      <td>-0.095600</td>\n",
              "      <td>-0.078380</td>\n",
              "      <td>-0.154251</td>\n",
              "      <td>0.042482</td>\n",
              "      <td>-0.050349</td>\n",
              "      <td>0.032423</td>\n",
              "      <td>0.040587</td>\n",
              "      <td>0.100984</td>\n",
              "    </tr>\n",
              "    <tr>\n",
              "      <th>away_shots_on_target</th>\n",
              "      <td>NaN</td>\n",
              "      <td>NaN</td>\n",
              "      <td>-0.046110</td>\n",
              "      <td>0.011476</td>\n",
              "      <td>NaN</td>\n",
              "      <td>-0.092636</td>\n",
              "      <td>0.526122</td>\n",
              "      <td>-0.090840</td>\n",
              "      <td>1.000000</td>\n",
              "      <td>0.141616</td>\n",
              "      <td>-0.066489</td>\n",
              "      <td>-0.087936</td>\n",
              "      <td>0.154835</td>\n",
              "      <td>0.148734</td>\n",
              "      <td>0.039229</td>\n",
              "      <td>0.170612</td>\n",
              "      <td>-0.018211</td>\n",
              "      <td>0.048074</td>\n",
              "      <td>-0.003602</td>\n",
              "      <td>-0.044046</td>\n",
              "      <td>-0.115776</td>\n",
              "    </tr>\n",
              "    <tr>\n",
              "      <th>home_fouls</th>\n",
              "      <td>NaN</td>\n",
              "      <td>NaN</td>\n",
              "      <td>-0.001865</td>\n",
              "      <td>-0.032299</td>\n",
              "      <td>NaN</td>\n",
              "      <td>0.058785</td>\n",
              "      <td>0.175967</td>\n",
              "      <td>-0.076375</td>\n",
              "      <td>0.141616</td>\n",
              "      <td>1.000000</td>\n",
              "      <td>0.296185</td>\n",
              "      <td>-0.093131</td>\n",
              "      <td>0.026791</td>\n",
              "      <td>0.383906</td>\n",
              "      <td>0.171575</td>\n",
              "      <td>0.039862</td>\n",
              "      <td>0.007555</td>\n",
              "      <td>0.027750</td>\n",
              "      <td>-0.046522</td>\n",
              "      <td>-0.046251</td>\n",
              "      <td>-0.006801</td>\n",
              "    </tr>\n",
              "    <tr>\n",
              "      <th>away_fouls</th>\n",
              "      <td>NaN</td>\n",
              "      <td>NaN</td>\n",
              "      <td>0.039086</td>\n",
              "      <td>0.009874</td>\n",
              "      <td>NaN</td>\n",
              "      <td>0.073336</td>\n",
              "      <td>0.059102</td>\n",
              "      <td>-0.062656</td>\n",
              "      <td>-0.066489</td>\n",
              "      <td>0.296185</td>\n",
              "      <td>1.000000</td>\n",
              "      <td>-0.152702</td>\n",
              "      <td>-0.050464</td>\n",
              "      <td>0.125088</td>\n",
              "      <td>0.391667</td>\n",
              "      <td>-0.104073</td>\n",
              "      <td>-0.033515</td>\n",
              "      <td>-0.019406</td>\n",
              "      <td>-0.041564</td>\n",
              "      <td>-0.024719</td>\n",
              "      <td>0.017949</td>\n",
              "    </tr>\n",
              "    <tr>\n",
              "      <th>home_corners</th>\n",
              "      <td>NaN</td>\n",
              "      <td>NaN</td>\n",
              "      <td>0.018569</td>\n",
              "      <td>0.003157</td>\n",
              "      <td>NaN</td>\n",
              "      <td>0.447689</td>\n",
              "      <td>-0.261693</td>\n",
              "      <td>0.225270</td>\n",
              "      <td>-0.087936</td>\n",
              "      <td>-0.093131</td>\n",
              "      <td>-0.152702</td>\n",
              "      <td>1.000000</td>\n",
              "      <td>-0.217960</td>\n",
              "      <td>-0.069458</td>\n",
              "      <td>-0.127431</td>\n",
              "      <td>-0.056201</td>\n",
              "      <td>0.057517</td>\n",
              "      <td>-0.028400</td>\n",
              "      <td>0.018657</td>\n",
              "      <td>0.031144</td>\n",
              "      <td>-0.026510</td>\n",
              "    </tr>\n",
              "    <tr>\n",
              "      <th>away_corners</th>\n",
              "      <td>NaN</td>\n",
              "      <td>NaN</td>\n",
              "      <td>-0.020305</td>\n",
              "      <td>-0.007818</td>\n",
              "      <td>NaN</td>\n",
              "      <td>-0.290025</td>\n",
              "      <td>0.369248</td>\n",
              "      <td>-0.085074</td>\n",
              "      <td>0.154835</td>\n",
              "      <td>0.026791</td>\n",
              "      <td>-0.050464</td>\n",
              "      <td>-0.217960</td>\n",
              "      <td>1.000000</td>\n",
              "      <td>0.161173</td>\n",
              "      <td>0.024224</td>\n",
              "      <td>0.238886</td>\n",
              "      <td>0.042416</td>\n",
              "      <td>0.054522</td>\n",
              "      <td>-0.008061</td>\n",
              "      <td>-0.035035</td>\n",
              "      <td>0.028027</td>\n",
              "    </tr>\n",
              "    <tr>\n",
              "      <th>home_yellow_cards</th>\n",
              "      <td>NaN</td>\n",
              "      <td>NaN</td>\n",
              "      <td>-0.040273</td>\n",
              "      <td>-0.014067</td>\n",
              "      <td>NaN</td>\n",
              "      <td>0.012835</td>\n",
              "      <td>0.146645</td>\n",
              "      <td>-0.095600</td>\n",
              "      <td>0.148734</td>\n",
              "      <td>0.383906</td>\n",
              "      <td>0.125088</td>\n",
              "      <td>-0.069458</td>\n",
              "      <td>0.161173</td>\n",
              "      <td>1.000000</td>\n",
              "      <td>0.180165</td>\n",
              "      <td>0.261080</td>\n",
              "      <td>0.132382</td>\n",
              "      <td>0.040483</td>\n",
              "      <td>-0.018690</td>\n",
              "      <td>-0.035878</td>\n",
              "      <td>-0.023522</td>\n",
              "    </tr>\n",
              "    <tr>\n",
              "      <th>away_yellow_cards</th>\n",
              "      <td>NaN</td>\n",
              "      <td>NaN</td>\n",
              "      <td>0.020986</td>\n",
              "      <td>-0.026472</td>\n",
              "      <td>NaN</td>\n",
              "      <td>0.032184</td>\n",
              "      <td>0.082736</td>\n",
              "      <td>-0.078380</td>\n",
              "      <td>0.039229</td>\n",
              "      <td>0.171575</td>\n",
              "      <td>0.391667</td>\n",
              "      <td>-0.127431</td>\n",
              "      <td>0.024224</td>\n",
              "      <td>0.180165</td>\n",
              "      <td>1.000000</td>\n",
              "      <td>0.082956</td>\n",
              "      <td>0.246277</td>\n",
              "      <td>0.008237</td>\n",
              "      <td>-0.026078</td>\n",
              "      <td>-0.023191</td>\n",
              "      <td>0.038727</td>\n",
              "    </tr>\n",
              "    <tr>\n",
              "      <th>home_red_cards</th>\n",
              "      <td>NaN</td>\n",
              "      <td>NaN</td>\n",
              "      <td>0.000476</td>\n",
              "      <td>0.034065</td>\n",
              "      <td>NaN</td>\n",
              "      <td>-0.166487</td>\n",
              "      <td>0.124282</td>\n",
              "      <td>-0.154251</td>\n",
              "      <td>0.170612</td>\n",
              "      <td>0.039862</td>\n",
              "      <td>-0.104073</td>\n",
              "      <td>-0.056201</td>\n",
              "      <td>0.238886</td>\n",
              "      <td>0.261080</td>\n",
              "      <td>0.082956</td>\n",
              "      <td>1.000000</td>\n",
              "      <td>0.141756</td>\n",
              "      <td>0.050984</td>\n",
              "      <td>0.002014</td>\n",
              "      <td>-0.024432</td>\n",
              "      <td>-0.040910</td>\n",
              "    </tr>\n",
              "    <tr>\n",
              "      <th>away_red_cards</th>\n",
              "      <td>NaN</td>\n",
              "      <td>NaN</td>\n",
              "      <td>0.064229</td>\n",
              "      <td>-0.001611</td>\n",
              "      <td>NaN</td>\n",
              "      <td>0.109907</td>\n",
              "      <td>-0.048459</td>\n",
              "      <td>0.042482</td>\n",
              "      <td>-0.018211</td>\n",
              "      <td>0.007555</td>\n",
              "      <td>-0.033515</td>\n",
              "      <td>0.057517</td>\n",
              "      <td>0.042416</td>\n",
              "      <td>0.132382</td>\n",
              "      <td>0.246277</td>\n",
              "      <td>0.141756</td>\n",
              "      <td>1.000000</td>\n",
              "      <td>0.021800</td>\n",
              "      <td>-0.000634</td>\n",
              "      <td>-0.018143</td>\n",
              "      <td>0.046897</td>\n",
              "    </tr>\n",
              "    <tr>\n",
              "      <th>home_coef</th>\n",
              "      <td>NaN</td>\n",
              "      <td>NaN</td>\n",
              "      <td>-0.029079</td>\n",
              "      <td>0.017500</td>\n",
              "      <td>NaN</td>\n",
              "      <td>-0.064338</td>\n",
              "      <td>0.048558</td>\n",
              "      <td>-0.050349</td>\n",
              "      <td>0.048074</td>\n",
              "      <td>0.027750</td>\n",
              "      <td>-0.019406</td>\n",
              "      <td>-0.028400</td>\n",
              "      <td>0.054522</td>\n",
              "      <td>0.040483</td>\n",
              "      <td>0.008237</td>\n",
              "      <td>0.050984</td>\n",
              "      <td>0.021800</td>\n",
              "      <td>1.000000</td>\n",
              "      <td>-0.404658</td>\n",
              "      <td>-0.758400</td>\n",
              "      <td>-0.216814</td>\n",
              "    </tr>\n",
              "    <tr>\n",
              "      <th>draw_coef</th>\n",
              "      <td>NaN</td>\n",
              "      <td>NaN</td>\n",
              "      <td>0.047567</td>\n",
              "      <td>0.007918</td>\n",
              "      <td>NaN</td>\n",
              "      <td>-0.001819</td>\n",
              "      <td>-0.045782</td>\n",
              "      <td>0.032423</td>\n",
              "      <td>-0.003602</td>\n",
              "      <td>-0.046522</td>\n",
              "      <td>-0.041564</td>\n",
              "      <td>0.018657</td>\n",
              "      <td>-0.008061</td>\n",
              "      <td>-0.018690</td>\n",
              "      <td>-0.026078</td>\n",
              "      <td>0.002014</td>\n",
              "      <td>-0.000634</td>\n",
              "      <td>-0.404658</td>\n",
              "      <td>1.000000</td>\n",
              "      <td>0.831615</td>\n",
              "      <td>0.157598</td>\n",
              "    </tr>\n",
              "    <tr>\n",
              "      <th>away_coef</th>\n",
              "      <td>NaN</td>\n",
              "      <td>NaN</td>\n",
              "      <td>0.045907</td>\n",
              "      <td>-0.017430</td>\n",
              "      <td>NaN</td>\n",
              "      <td>0.024443</td>\n",
              "      <td>-0.070484</td>\n",
              "      <td>0.040587</td>\n",
              "      <td>-0.044046</td>\n",
              "      <td>-0.046251</td>\n",
              "      <td>-0.024719</td>\n",
              "      <td>0.031144</td>\n",
              "      <td>-0.035035</td>\n",
              "      <td>-0.035878</td>\n",
              "      <td>-0.023191</td>\n",
              "      <td>-0.024432</td>\n",
              "      <td>-0.018143</td>\n",
              "      <td>-0.758400</td>\n",
              "      <td>0.831615</td>\n",
              "      <td>1.000000</td>\n",
              "      <td>0.204059</td>\n",
              "    </tr>\n",
              "    <tr>\n",
              "      <th>ans</th>\n",
              "      <td>NaN</td>\n",
              "      <td>NaN</td>\n",
              "      <td>0.011094</td>\n",
              "      <td>0.007009</td>\n",
              "      <td>NaN</td>\n",
              "      <td>-0.017375</td>\n",
              "      <td>-0.025709</td>\n",
              "      <td>0.100984</td>\n",
              "      <td>-0.115776</td>\n",
              "      <td>-0.006801</td>\n",
              "      <td>0.017949</td>\n",
              "      <td>-0.026510</td>\n",
              "      <td>0.028027</td>\n",
              "      <td>-0.023522</td>\n",
              "      <td>0.038727</td>\n",
              "      <td>-0.040910</td>\n",
              "      <td>0.046897</td>\n",
              "      <td>-0.216814</td>\n",
              "      <td>0.157598</td>\n",
              "      <td>0.204059</td>\n",
              "      <td>1.000000</td>\n",
              "    </tr>\n",
              "  </tbody>\n",
              "</table>\n",
              "</div>"
            ],
            "text/plain": [
              "                      Division  Time  home_team  ...  draw_coef  away_coef       ans\n",
              "Division                   NaN   NaN        NaN  ...        NaN        NaN       NaN\n",
              "Time                       NaN   NaN        NaN  ...        NaN        NaN       NaN\n",
              "home_team                  NaN   NaN   1.000000  ...   0.047567   0.045907  0.011094\n",
              "away_team                  NaN   NaN  -0.044211  ...   0.007918  -0.017430  0.007009\n",
              "Referee                    NaN   NaN        NaN  ...        NaN        NaN       NaN\n",
              "home_shots                 NaN   NaN   0.003960  ...  -0.001819   0.024443 -0.017375\n",
              "away_shots                 NaN   NaN  -0.050751  ...  -0.045782  -0.070484 -0.025709\n",
              "home_shots_on_target       NaN   NaN  -0.003646  ...   0.032423   0.040587  0.100984\n",
              "away_shots_on_target       NaN   NaN  -0.046110  ...  -0.003602  -0.044046 -0.115776\n",
              "home_fouls                 NaN   NaN  -0.001865  ...  -0.046522  -0.046251 -0.006801\n",
              "away_fouls                 NaN   NaN   0.039086  ...  -0.041564  -0.024719  0.017949\n",
              "home_corners               NaN   NaN   0.018569  ...   0.018657   0.031144 -0.026510\n",
              "away_corners               NaN   NaN  -0.020305  ...  -0.008061  -0.035035  0.028027\n",
              "home_yellow_cards          NaN   NaN  -0.040273  ...  -0.018690  -0.035878 -0.023522\n",
              "away_yellow_cards          NaN   NaN   0.020986  ...  -0.026078  -0.023191  0.038727\n",
              "home_red_cards             NaN   NaN   0.000476  ...   0.002014  -0.024432 -0.040910\n",
              "away_red_cards             NaN   NaN   0.064229  ...  -0.000634  -0.018143  0.046897\n",
              "home_coef                  NaN   NaN  -0.029079  ...  -0.404658  -0.758400 -0.216814\n",
              "draw_coef                  NaN   NaN   0.047567  ...   1.000000   0.831615  0.157598\n",
              "away_coef                  NaN   NaN   0.045907  ...   0.831615   1.000000  0.204059\n",
              "ans                        NaN   NaN   0.011094  ...   0.157598   0.204059  1.000000\n",
              "\n",
              "[21 rows x 21 columns]"
            ]
          },
          "metadata": {
            "tags": []
          },
          "execution_count": 1957
        }
      ]
    },
    {
      "cell_type": "markdown",
      "metadata": {
        "id": "zRqVd1ajbOHT"
      },
      "source": [
        "# Блок про личные характеристики"
      ]
    },
    {
      "cell_type": "code",
      "metadata": {
        "id": "FZA3dUQBHOvn"
      },
      "source": [
        "name_home_priznak = ['home_team', 'Division', 'full_time_home_goals', 'half_time_home_goals', 'home_shots', 'home_shots_on_target', 'home_fouls', 'home_corners', 'home_yellow_cards', 'home_red_cards', 'home_coef']\n",
        "name_away_priznak = ['away_team', 'full_time_away_goals', 'half_time_away_goals', 'away_shots', 'away_shots_on_target', 'away_fouls', 'away_corners', 'away_yellow_cards', 'away_red_cards', 'away_coef']\n",
        "name_draw_priznak = ['draw_coef']"
      ],
      "execution_count": null,
      "outputs": []
    },
    {
      "cell_type": "code",
      "metadata": {
        "id": "jowWGOIiEXOv"
      },
      "source": [
        "home_priznak = Priznak_train[name_home_priznak]\n",
        "away_priznak = Priznak_train[name_away_priznak]\n",
        "draw_priznak = Priznak_train[name_draw_priznak]"
      ],
      "execution_count": null,
      "outputs": []
    },
    {
      "cell_type": "markdown",
      "metadata": {
        "id": "QfzcShHnYtMu"
      },
      "source": [
        "Получим значения минимального и максимального игрока(считаем, что подавляющее большинство номеров команд заполнено). Получим, что индексация начинается с 0. Тогда можно за 0ю команду считать команду без индекса"
      ]
    },
    {
      "cell_type": "code",
      "metadata": {
        "id": "uHirklpwUb5G"
      },
      "source": [
        "minPlayerId = min(min(data['home_team']), min(data['away_team'])) # == 1\n",
        "maxPlayerId = max(max(data['home_team']), max(data['away_team'])) # == 494\n",
        "\n",
        "players = pd.DataFrame()\n",
        "players['id'] = range(0, int(maxPlayerId) + 1)\n",
        "lst_home = []\n",
        "lst_away = []\n",
        "for i in range(0, int(maxPlayerId) + 1):\n",
        "  lst_home.append(Priznak_train[Priznak_train['home_team'] == i].shape[0])\n",
        "  lst_away.append(Priznak_train[Priznak_train['away_team'] == i].shape[0])\n",
        "players['games_home'] = pd.DataFrame(lst_home)\n",
        "players['games_away'] = pd.DataFrame(lst_away)"
      ],
      "execution_count": null,
      "outputs": []
    },
    {
      "cell_type": "code",
      "metadata": {
        "colab": {
          "base_uri": "https://localhost:8080/",
          "height": 404
        },
        "id": "rzkECC93Cq1q",
        "outputId": "c7a25f22-fc2e-4c36-cff1-44725da676e3"
      },
      "source": [
        "players"
      ],
      "execution_count": null,
      "outputs": [
        {
          "output_type": "execute_result",
          "data": {
            "text/html": [
              "<div>\n",
              "<style scoped>\n",
              "    .dataframe tbody tr th:only-of-type {\n",
              "        vertical-align: middle;\n",
              "    }\n",
              "\n",
              "    .dataframe tbody tr th {\n",
              "        vertical-align: top;\n",
              "    }\n",
              "\n",
              "    .dataframe thead th {\n",
              "        text-align: right;\n",
              "    }\n",
              "</style>\n",
              "<table border=\"1\" class=\"dataframe\">\n",
              "  <thead>\n",
              "    <tr style=\"text-align: right;\">\n",
              "      <th></th>\n",
              "      <th>id</th>\n",
              "      <th>games_home</th>\n",
              "      <th>games_away</th>\n",
              "    </tr>\n",
              "  </thead>\n",
              "  <tbody>\n",
              "    <tr>\n",
              "      <th>0</th>\n",
              "      <td>0</td>\n",
              "      <td>0</td>\n",
              "      <td>0</td>\n",
              "    </tr>\n",
              "    <tr>\n",
              "      <th>1</th>\n",
              "      <td>1</td>\n",
              "      <td>0</td>\n",
              "      <td>0</td>\n",
              "    </tr>\n",
              "    <tr>\n",
              "      <th>2</th>\n",
              "      <td>2</td>\n",
              "      <td>0</td>\n",
              "      <td>0</td>\n",
              "    </tr>\n",
              "    <tr>\n",
              "      <th>3</th>\n",
              "      <td>3</td>\n",
              "      <td>0</td>\n",
              "      <td>0</td>\n",
              "    </tr>\n",
              "    <tr>\n",
              "      <th>4</th>\n",
              "      <td>4</td>\n",
              "      <td>50</td>\n",
              "      <td>51</td>\n",
              "    </tr>\n",
              "    <tr>\n",
              "      <th>...</th>\n",
              "      <td>...</td>\n",
              "      <td>...</td>\n",
              "      <td>...</td>\n",
              "    </tr>\n",
              "    <tr>\n",
              "      <th>482</th>\n",
              "      <td>482</td>\n",
              "      <td>0</td>\n",
              "      <td>0</td>\n",
              "    </tr>\n",
              "    <tr>\n",
              "      <th>483</th>\n",
              "      <td>483</td>\n",
              "      <td>0</td>\n",
              "      <td>0</td>\n",
              "    </tr>\n",
              "    <tr>\n",
              "      <th>484</th>\n",
              "      <td>484</td>\n",
              "      <td>0</td>\n",
              "      <td>0</td>\n",
              "    </tr>\n",
              "    <tr>\n",
              "      <th>485</th>\n",
              "      <td>485</td>\n",
              "      <td>0</td>\n",
              "      <td>0</td>\n",
              "    </tr>\n",
              "    <tr>\n",
              "      <th>486</th>\n",
              "      <td>486</td>\n",
              "      <td>17</td>\n",
              "      <td>17</td>\n",
              "    </tr>\n",
              "  </tbody>\n",
              "</table>\n",
              "<p>487 rows × 3 columns</p>\n",
              "</div>"
            ],
            "text/plain": [
              "      id  games_home  games_away\n",
              "0      0           0           0\n",
              "1      1           0           0\n",
              "2      2           0           0\n",
              "3      3           0           0\n",
              "4      4          50          51\n",
              "..   ...         ...         ...\n",
              "482  482           0           0\n",
              "483  483           0           0\n",
              "484  484           0           0\n",
              "485  485           0           0\n",
              "486  486          17          17\n",
              "\n",
              "[487 rows x 3 columns]"
            ]
          },
          "metadata": {
            "tags": []
          },
          "execution_count": 1961
        }
      ]
    },
    {
      "cell_type": "code",
      "metadata": {
        "colab": {
          "base_uri": "https://localhost:8080/"
        },
        "id": "JBg8kmalwYJv",
        "outputId": "0b8c24e1-7754-46ff-818e-3c8eefeece9b"
      },
      "source": [
        "maxPlayerId"
      ],
      "execution_count": null,
      "outputs": [
        {
          "output_type": "execute_result",
          "data": {
            "text/plain": [
              "486.0"
            ]
          },
          "metadata": {
            "tags": []
          },
          "execution_count": 1962
        }
      ]
    },
    {
      "cell_type": "markdown",
      "metadata": {
        "id": "DgtkCsf9gUao"
      },
      "source": [
        "Теперь мы должны поставить нашим игрокам пропуски"
      ]
    },
    {
      "cell_type": "code",
      "metadata": {
        "id": "BOV6dwntbYv7"
      },
      "source": [
        "p_home = pd.DataFrame()\n",
        "for cols in range(1, len(name_home_priznak)):\n",
        "  name = name_home_priznak[cols]\n",
        "  lst = [0]\n",
        "  for i in range(int(minPlayerId), int(maxPlayerId) + 1):\n",
        "    lst.append(home_priznak[home_priznak['home_team'] == i][name].sum())\n",
        "  p_home['players_'+name] = lst"
      ],
      "execution_count": null,
      "outputs": []
    },
    {
      "cell_type": "code",
      "metadata": {
        "id": "19OAVdWzQqHc"
      },
      "source": [
        "p_away = pd.DataFrame()\n",
        "for cols in range(1, len(name_away_priznak)):\n",
        "  name = name_away_priznak[cols]\n",
        "  lst = [0]\n",
        "  for i in range(int(minPlayerId), int(maxPlayerId) + 1):\n",
        "    lst.append(away_priznak[away_priznak['away_team'] == i][name].sum())\n",
        "  p_away['players_'+name] = lst"
      ],
      "execution_count": null,
      "outputs": []
    },
    {
      "cell_type": "code",
      "metadata": {
        "id": "Yd_K4Ctlqeu-"
      },
      "source": [
        "players = players.drop(0)\n",
        "p_home = p_home.drop(0)\n",
        "p_away = p_away.drop(0)"
      ],
      "execution_count": null,
      "outputs": []
    },
    {
      "cell_type": "code",
      "metadata": {
        "colab": {
          "base_uri": "https://localhost:8080/",
          "height": 424
        },
        "id": "mN7gnmS6vfhF",
        "outputId": "3d83e59d-d7fe-4d65-cfc0-38d26d89348f"
      },
      "source": [
        "p_home"
      ],
      "execution_count": null,
      "outputs": [
        {
          "output_type": "execute_result",
          "data": {
            "text/html": [
              "<div>\n",
              "<style scoped>\n",
              "    .dataframe tbody tr th:only-of-type {\n",
              "        vertical-align: middle;\n",
              "    }\n",
              "\n",
              "    .dataframe tbody tr th {\n",
              "        vertical-align: top;\n",
              "    }\n",
              "\n",
              "    .dataframe thead th {\n",
              "        text-align: right;\n",
              "    }\n",
              "</style>\n",
              "<table border=\"1\" class=\"dataframe\">\n",
              "  <thead>\n",
              "    <tr style=\"text-align: right;\">\n",
              "      <th></th>\n",
              "      <th>players_Division</th>\n",
              "      <th>players_full_time_home_goals</th>\n",
              "      <th>players_half_time_home_goals</th>\n",
              "      <th>players_home_shots</th>\n",
              "      <th>players_home_shots_on_target</th>\n",
              "      <th>players_home_fouls</th>\n",
              "      <th>players_home_corners</th>\n",
              "      <th>players_home_yellow_cards</th>\n",
              "      <th>players_home_red_cards</th>\n",
              "      <th>players_home_coef</th>\n",
              "    </tr>\n",
              "  </thead>\n",
              "  <tbody>\n",
              "    <tr>\n",
              "      <th>1</th>\n",
              "      <td>0</td>\n",
              "      <td>66.0</td>\n",
              "      <td>22.0</td>\n",
              "      <td>644.364292</td>\n",
              "      <td>244.856136</td>\n",
              "      <td>607.051336</td>\n",
              "      <td>287.455939</td>\n",
              "      <td>83.764397</td>\n",
              "      <td>4.268793</td>\n",
              "      <td>139.517610</td>\n",
              "    </tr>\n",
              "    <tr>\n",
              "      <th>2</th>\n",
              "      <td>0</td>\n",
              "      <td>0.0</td>\n",
              "      <td>0.0</td>\n",
              "      <td>0.000000</td>\n",
              "      <td>0.000000</td>\n",
              "      <td>0.000000</td>\n",
              "      <td>0.000000</td>\n",
              "      <td>0.000000</td>\n",
              "      <td>0.000000</td>\n",
              "      <td>0.000000</td>\n",
              "    </tr>\n",
              "    <tr>\n",
              "      <th>3</th>\n",
              "      <td>0</td>\n",
              "      <td>0.0</td>\n",
              "      <td>0.0</td>\n",
              "      <td>0.000000</td>\n",
              "      <td>0.000000</td>\n",
              "      <td>0.000000</td>\n",
              "      <td>0.000000</td>\n",
              "      <td>0.000000</td>\n",
              "      <td>0.000000</td>\n",
              "      <td>0.000000</td>\n",
              "    </tr>\n",
              "    <tr>\n",
              "      <th>4</th>\n",
              "      <td>0</td>\n",
              "      <td>0.0</td>\n",
              "      <td>0.0</td>\n",
              "      <td>0.000000</td>\n",
              "      <td>0.000000</td>\n",
              "      <td>0.000000</td>\n",
              "      <td>0.000000</td>\n",
              "      <td>0.000000</td>\n",
              "      <td>0.000000</td>\n",
              "      <td>0.000000</td>\n",
              "    </tr>\n",
              "    <tr>\n",
              "      <th>5</th>\n",
              "      <td>0</td>\n",
              "      <td>0.0</td>\n",
              "      <td>0.0</td>\n",
              "      <td>0.000000</td>\n",
              "      <td>0.000000</td>\n",
              "      <td>0.000000</td>\n",
              "      <td>0.000000</td>\n",
              "      <td>0.000000</td>\n",
              "      <td>0.000000</td>\n",
              "      <td>0.000000</td>\n",
              "    </tr>\n",
              "    <tr>\n",
              "      <th>...</th>\n",
              "      <td>...</td>\n",
              "      <td>...</td>\n",
              "      <td>...</td>\n",
              "      <td>...</td>\n",
              "      <td>...</td>\n",
              "      <td>...</td>\n",
              "      <td>...</td>\n",
              "      <td>...</td>\n",
              "      <td>...</td>\n",
              "      <td>...</td>\n",
              "    </tr>\n",
              "    <tr>\n",
              "      <th>479</th>\n",
              "      <td>0</td>\n",
              "      <td>0.0</td>\n",
              "      <td>0.0</td>\n",
              "      <td>0.000000</td>\n",
              "      <td>0.000000</td>\n",
              "      <td>0.000000</td>\n",
              "      <td>0.000000</td>\n",
              "      <td>0.000000</td>\n",
              "      <td>0.000000</td>\n",
              "      <td>0.000000</td>\n",
              "    </tr>\n",
              "    <tr>\n",
              "      <th>480</th>\n",
              "      <td>0</td>\n",
              "      <td>0.0</td>\n",
              "      <td>0.0</td>\n",
              "      <td>0.000000</td>\n",
              "      <td>0.000000</td>\n",
              "      <td>0.000000</td>\n",
              "      <td>0.000000</td>\n",
              "      <td>0.000000</td>\n",
              "      <td>0.000000</td>\n",
              "      <td>0.000000</td>\n",
              "    </tr>\n",
              "    <tr>\n",
              "      <th>481</th>\n",
              "      <td>0</td>\n",
              "      <td>0.0</td>\n",
              "      <td>0.0</td>\n",
              "      <td>0.000000</td>\n",
              "      <td>0.000000</td>\n",
              "      <td>0.000000</td>\n",
              "      <td>0.000000</td>\n",
              "      <td>0.000000</td>\n",
              "      <td>0.000000</td>\n",
              "      <td>0.000000</td>\n",
              "    </tr>\n",
              "    <tr>\n",
              "      <th>482</th>\n",
              "      <td>0</td>\n",
              "      <td>0.0</td>\n",
              "      <td>0.0</td>\n",
              "      <td>0.000000</td>\n",
              "      <td>0.000000</td>\n",
              "      <td>0.000000</td>\n",
              "      <td>0.000000</td>\n",
              "      <td>0.000000</td>\n",
              "      <td>0.000000</td>\n",
              "      <td>0.000000</td>\n",
              "    </tr>\n",
              "    <tr>\n",
              "      <th>483</th>\n",
              "      <td>0</td>\n",
              "      <td>14.0</td>\n",
              "      <td>8.0</td>\n",
              "      <td>219.083859</td>\n",
              "      <td>83.251086</td>\n",
              "      <td>206.397454</td>\n",
              "      <td>97.735019</td>\n",
              "      <td>28.479895</td>\n",
              "      <td>1.451389</td>\n",
              "      <td>43.306846</td>\n",
              "    </tr>\n",
              "  </tbody>\n",
              "</table>\n",
              "<p>483 rows × 10 columns</p>\n",
              "</div>"
            ],
            "text/plain": [
              "     players_Division  ...  players_home_coef\n",
              "1                   0  ...         139.517610\n",
              "2                   0  ...           0.000000\n",
              "3                   0  ...           0.000000\n",
              "4                   0  ...           0.000000\n",
              "5                   0  ...           0.000000\n",
              "..                ...  ...                ...\n",
              "479                 0  ...           0.000000\n",
              "480                 0  ...           0.000000\n",
              "481                 0  ...           0.000000\n",
              "482                 0  ...           0.000000\n",
              "483                 0  ...          43.306846\n",
              "\n",
              "[483 rows x 10 columns]"
            ]
          },
          "metadata": {
            "tags": []
          },
          "execution_count": 1966
        }
      ]
    },
    {
      "cell_type": "code",
      "metadata": {
        "id": "SasTk7nlXibK"
      },
      "source": [
        "p_home[p_home.columns[0]] //= players['games_home']\n",
        "for i in range(1, len(p_home.columns)):\n",
        "  p_home[p_home.columns[i]] /= players['games_home']"
      ],
      "execution_count": null,
      "outputs": []
    },
    {
      "cell_type": "code",
      "metadata": {
        "id": "qbnvMmZeYq8S"
      },
      "source": [
        "for i in range(0, len(p_away.columns)):\n",
        "  p_away[p_away.columns[i]] /= players['games_away']"
      ],
      "execution_count": null,
      "outputs": []
    },
    {
      "cell_type": "code",
      "metadata": {
        "id": "5B4pJuflZiLM"
      },
      "source": [
        "p_away.reset_index(drop=True, inplace=True)\n",
        "p_home.reset_index(drop=True, inplace=True)\n",
        "players.reset_index(drop=True, inplace=True)\n",
        "a = pd.concat([p_away, p_home], axis = 1)\n",
        "a.reset_index(drop=True, inplace=True)\n",
        "players = pd.concat([players, a], axis = 1)"
      ],
      "execution_count": null,
      "outputs": []
    },
    {
      "cell_type": "code",
      "metadata": {
        "colab": {
          "base_uri": "https://localhost:8080/",
          "height": 52
        },
        "id": "lhGizrBfy3ER",
        "outputId": "c7c7cc14-ceb1-4d63-d238-513b9b0c90f5"
      },
      "source": [
        "'''players = players[players['games_home'] + players['games_away'] > 0]\n",
        "for i in range(3, 21):\n",
        "  name = players.columns[i]\n",
        "  players[name] = players[name].fillna(players[name].mean())'''"
      ],
      "execution_count": null,
      "outputs": [
        {
          "output_type": "execute_result",
          "data": {
            "application/vnd.google.colaboratory.intrinsic+json": {
              "type": "string"
            },
            "text/plain": [
              "\"players = players[players['games_home'] + players['games_away'] > 0]\\nfor i in range(3, 21):\\n  name = players.columns[i]\\n  players[name] = players[name].fillna(players[name].mean())\""
            ]
          },
          "metadata": {
            "tags": []
          },
          "execution_count": 1970
        }
      ]
    },
    {
      "cell_type": "code",
      "metadata": {
        "colab": {
          "base_uri": "https://localhost:8080/",
          "height": 424
        },
        "id": "17bal-M2zuMp",
        "outputId": "3615902b-76b4-4da1-e7da-becfa0d27df6"
      },
      "source": [
        "players"
      ],
      "execution_count": null,
      "outputs": [
        {
          "output_type": "execute_result",
          "data": {
            "text/html": [
              "<div>\n",
              "<style scoped>\n",
              "    .dataframe tbody tr th:only-of-type {\n",
              "        vertical-align: middle;\n",
              "    }\n",
              "\n",
              "    .dataframe tbody tr th {\n",
              "        vertical-align: top;\n",
              "    }\n",
              "\n",
              "    .dataframe thead th {\n",
              "        text-align: right;\n",
              "    }\n",
              "</style>\n",
              "<table border=\"1\" class=\"dataframe\">\n",
              "  <thead>\n",
              "    <tr style=\"text-align: right;\">\n",
              "      <th></th>\n",
              "      <th>id</th>\n",
              "      <th>games_home</th>\n",
              "      <th>games_away</th>\n",
              "      <th>players_full_time_away_goals</th>\n",
              "      <th>players_half_time_away_goals</th>\n",
              "      <th>players_away_shots</th>\n",
              "      <th>players_away_shots_on_target</th>\n",
              "      <th>players_away_fouls</th>\n",
              "      <th>players_away_corners</th>\n",
              "      <th>players_away_yellow_cards</th>\n",
              "      <th>players_away_red_cards</th>\n",
              "      <th>players_away_coef</th>\n",
              "      <th>players_Division</th>\n",
              "      <th>players_full_time_home_goals</th>\n",
              "      <th>players_half_time_home_goals</th>\n",
              "      <th>players_home_shots</th>\n",
              "      <th>players_home_shots_on_target</th>\n",
              "      <th>players_home_fouls</th>\n",
              "      <th>players_home_corners</th>\n",
              "      <th>players_home_yellow_cards</th>\n",
              "      <th>players_home_red_cards</th>\n",
              "      <th>players_home_coef</th>\n",
              "    </tr>\n",
              "  </thead>\n",
              "  <tbody>\n",
              "    <tr>\n",
              "      <th>0</th>\n",
              "      <td>1</td>\n",
              "      <td>0</td>\n",
              "      <td>0</td>\n",
              "      <td>inf</td>\n",
              "      <td>inf</td>\n",
              "      <td>inf</td>\n",
              "      <td>inf</td>\n",
              "      <td>inf</td>\n",
              "      <td>inf</td>\n",
              "      <td>inf</td>\n",
              "      <td>inf</td>\n",
              "      <td>inf</td>\n",
              "      <td>NaN</td>\n",
              "      <td>inf</td>\n",
              "      <td>inf</td>\n",
              "      <td>inf</td>\n",
              "      <td>inf</td>\n",
              "      <td>inf</td>\n",
              "      <td>inf</td>\n",
              "      <td>inf</td>\n",
              "      <td>inf</td>\n",
              "      <td>inf</td>\n",
              "    </tr>\n",
              "    <tr>\n",
              "      <th>1</th>\n",
              "      <td>2</td>\n",
              "      <td>0</td>\n",
              "      <td>0</td>\n",
              "      <td>NaN</td>\n",
              "      <td>NaN</td>\n",
              "      <td>NaN</td>\n",
              "      <td>NaN</td>\n",
              "      <td>NaN</td>\n",
              "      <td>NaN</td>\n",
              "      <td>NaN</td>\n",
              "      <td>NaN</td>\n",
              "      <td>NaN</td>\n",
              "      <td>NaN</td>\n",
              "      <td>NaN</td>\n",
              "      <td>NaN</td>\n",
              "      <td>NaN</td>\n",
              "      <td>NaN</td>\n",
              "      <td>NaN</td>\n",
              "      <td>NaN</td>\n",
              "      <td>NaN</td>\n",
              "      <td>NaN</td>\n",
              "      <td>NaN</td>\n",
              "    </tr>\n",
              "    <tr>\n",
              "      <th>2</th>\n",
              "      <td>3</td>\n",
              "      <td>0</td>\n",
              "      <td>0</td>\n",
              "      <td>NaN</td>\n",
              "      <td>NaN</td>\n",
              "      <td>NaN</td>\n",
              "      <td>NaN</td>\n",
              "      <td>NaN</td>\n",
              "      <td>NaN</td>\n",
              "      <td>NaN</td>\n",
              "      <td>NaN</td>\n",
              "      <td>NaN</td>\n",
              "      <td>NaN</td>\n",
              "      <td>NaN</td>\n",
              "      <td>NaN</td>\n",
              "      <td>NaN</td>\n",
              "      <td>NaN</td>\n",
              "      <td>NaN</td>\n",
              "      <td>NaN</td>\n",
              "      <td>NaN</td>\n",
              "      <td>NaN</td>\n",
              "      <td>NaN</td>\n",
              "    </tr>\n",
              "    <tr>\n",
              "      <th>3</th>\n",
              "      <td>4</td>\n",
              "      <td>50</td>\n",
              "      <td>51</td>\n",
              "      <td>0.0</td>\n",
              "      <td>0.0</td>\n",
              "      <td>0.0</td>\n",
              "      <td>0.0</td>\n",
              "      <td>0.0</td>\n",
              "      <td>0.0</td>\n",
              "      <td>0.0</td>\n",
              "      <td>0.0</td>\n",
              "      <td>0.0</td>\n",
              "      <td>0.0</td>\n",
              "      <td>0.0</td>\n",
              "      <td>0.0</td>\n",
              "      <td>0.0</td>\n",
              "      <td>0.0</td>\n",
              "      <td>0.0</td>\n",
              "      <td>0.0</td>\n",
              "      <td>0.0</td>\n",
              "      <td>0.0</td>\n",
              "      <td>0.0</td>\n",
              "    </tr>\n",
              "    <tr>\n",
              "      <th>4</th>\n",
              "      <td>5</td>\n",
              "      <td>0</td>\n",
              "      <td>0</td>\n",
              "      <td>NaN</td>\n",
              "      <td>NaN</td>\n",
              "      <td>NaN</td>\n",
              "      <td>NaN</td>\n",
              "      <td>NaN</td>\n",
              "      <td>NaN</td>\n",
              "      <td>NaN</td>\n",
              "      <td>NaN</td>\n",
              "      <td>NaN</td>\n",
              "      <td>NaN</td>\n",
              "      <td>NaN</td>\n",
              "      <td>NaN</td>\n",
              "      <td>NaN</td>\n",
              "      <td>NaN</td>\n",
              "      <td>NaN</td>\n",
              "      <td>NaN</td>\n",
              "      <td>NaN</td>\n",
              "      <td>NaN</td>\n",
              "      <td>NaN</td>\n",
              "    </tr>\n",
              "    <tr>\n",
              "      <th>...</th>\n",
              "      <td>...</td>\n",
              "      <td>...</td>\n",
              "      <td>...</td>\n",
              "      <td>...</td>\n",
              "      <td>...</td>\n",
              "      <td>...</td>\n",
              "      <td>...</td>\n",
              "      <td>...</td>\n",
              "      <td>...</td>\n",
              "      <td>...</td>\n",
              "      <td>...</td>\n",
              "      <td>...</td>\n",
              "      <td>...</td>\n",
              "      <td>...</td>\n",
              "      <td>...</td>\n",
              "      <td>...</td>\n",
              "      <td>...</td>\n",
              "      <td>...</td>\n",
              "      <td>...</td>\n",
              "      <td>...</td>\n",
              "      <td>...</td>\n",
              "      <td>...</td>\n",
              "    </tr>\n",
              "    <tr>\n",
              "      <th>481</th>\n",
              "      <td>482</td>\n",
              "      <td>0</td>\n",
              "      <td>0</td>\n",
              "      <td>NaN</td>\n",
              "      <td>NaN</td>\n",
              "      <td>NaN</td>\n",
              "      <td>NaN</td>\n",
              "      <td>NaN</td>\n",
              "      <td>NaN</td>\n",
              "      <td>NaN</td>\n",
              "      <td>NaN</td>\n",
              "      <td>NaN</td>\n",
              "      <td>NaN</td>\n",
              "      <td>NaN</td>\n",
              "      <td>NaN</td>\n",
              "      <td>NaN</td>\n",
              "      <td>NaN</td>\n",
              "      <td>NaN</td>\n",
              "      <td>NaN</td>\n",
              "      <td>NaN</td>\n",
              "      <td>NaN</td>\n",
              "      <td>NaN</td>\n",
              "    </tr>\n",
              "    <tr>\n",
              "      <th>482</th>\n",
              "      <td>483</td>\n",
              "      <td>0</td>\n",
              "      <td>0</td>\n",
              "      <td>inf</td>\n",
              "      <td>inf</td>\n",
              "      <td>inf</td>\n",
              "      <td>inf</td>\n",
              "      <td>inf</td>\n",
              "      <td>inf</td>\n",
              "      <td>inf</td>\n",
              "      <td>inf</td>\n",
              "      <td>inf</td>\n",
              "      <td>NaN</td>\n",
              "      <td>inf</td>\n",
              "      <td>inf</td>\n",
              "      <td>inf</td>\n",
              "      <td>inf</td>\n",
              "      <td>inf</td>\n",
              "      <td>inf</td>\n",
              "      <td>inf</td>\n",
              "      <td>inf</td>\n",
              "      <td>inf</td>\n",
              "    </tr>\n",
              "    <tr>\n",
              "      <th>483</th>\n",
              "      <td>484</td>\n",
              "      <td>0</td>\n",
              "      <td>0</td>\n",
              "      <td>NaN</td>\n",
              "      <td>NaN</td>\n",
              "      <td>NaN</td>\n",
              "      <td>NaN</td>\n",
              "      <td>NaN</td>\n",
              "      <td>NaN</td>\n",
              "      <td>NaN</td>\n",
              "      <td>NaN</td>\n",
              "      <td>NaN</td>\n",
              "      <td>NaN</td>\n",
              "      <td>NaN</td>\n",
              "      <td>NaN</td>\n",
              "      <td>NaN</td>\n",
              "      <td>NaN</td>\n",
              "      <td>NaN</td>\n",
              "      <td>NaN</td>\n",
              "      <td>NaN</td>\n",
              "      <td>NaN</td>\n",
              "      <td>NaN</td>\n",
              "    </tr>\n",
              "    <tr>\n",
              "      <th>484</th>\n",
              "      <td>485</td>\n",
              "      <td>0</td>\n",
              "      <td>0</td>\n",
              "      <td>NaN</td>\n",
              "      <td>NaN</td>\n",
              "      <td>NaN</td>\n",
              "      <td>NaN</td>\n",
              "      <td>NaN</td>\n",
              "      <td>NaN</td>\n",
              "      <td>NaN</td>\n",
              "      <td>NaN</td>\n",
              "      <td>NaN</td>\n",
              "      <td>NaN</td>\n",
              "      <td>NaN</td>\n",
              "      <td>NaN</td>\n",
              "      <td>NaN</td>\n",
              "      <td>NaN</td>\n",
              "      <td>NaN</td>\n",
              "      <td>NaN</td>\n",
              "      <td>NaN</td>\n",
              "      <td>NaN</td>\n",
              "      <td>NaN</td>\n",
              "    </tr>\n",
              "    <tr>\n",
              "      <th>485</th>\n",
              "      <td>486</td>\n",
              "      <td>17</td>\n",
              "      <td>17</td>\n",
              "      <td>NaN</td>\n",
              "      <td>NaN</td>\n",
              "      <td>NaN</td>\n",
              "      <td>NaN</td>\n",
              "      <td>NaN</td>\n",
              "      <td>NaN</td>\n",
              "      <td>NaN</td>\n",
              "      <td>NaN</td>\n",
              "      <td>NaN</td>\n",
              "      <td>NaN</td>\n",
              "      <td>NaN</td>\n",
              "      <td>NaN</td>\n",
              "      <td>NaN</td>\n",
              "      <td>NaN</td>\n",
              "      <td>NaN</td>\n",
              "      <td>NaN</td>\n",
              "      <td>NaN</td>\n",
              "      <td>NaN</td>\n",
              "      <td>NaN</td>\n",
              "    </tr>\n",
              "  </tbody>\n",
              "</table>\n",
              "<p>486 rows × 22 columns</p>\n",
              "</div>"
            ],
            "text/plain": [
              "      id  games_home  ...  players_home_red_cards  players_home_coef\n",
              "0      1           0  ...                     inf                inf\n",
              "1      2           0  ...                     NaN                NaN\n",
              "2      3           0  ...                     NaN                NaN\n",
              "3      4          50  ...                     0.0                0.0\n",
              "4      5           0  ...                     NaN                NaN\n",
              "..   ...         ...  ...                     ...                ...\n",
              "481  482           0  ...                     NaN                NaN\n",
              "482  483           0  ...                     inf                inf\n",
              "483  484           0  ...                     NaN                NaN\n",
              "484  485           0  ...                     NaN                NaN\n",
              "485  486          17  ...                     NaN                NaN\n",
              "\n",
              "[486 rows x 22 columns]"
            ]
          },
          "metadata": {
            "tags": []
          },
          "execution_count": 1971
        }
      ]
    },
    {
      "cell_type": "markdown",
      "metadata": {
        "id": "96x-p_J0Xedy"
      },
      "source": [
        "Теперь делим на среднее"
      ]
    },
    {
      "cell_type": "code",
      "metadata": {
        "id": "4ZLpsUrPHBXg"
      },
      "source": [
        "copy_player = players.copy()\n",
        "del copy_player['id']"
      ],
      "execution_count": null,
      "outputs": []
    },
    {
      "cell_type": "code",
      "metadata": {
        "colab": {
          "base_uri": "https://localhost:8080/"
        },
        "id": "zWC737wEI4NU",
        "outputId": "429829c9-8fb0-4998-b45b-abce667f6c3a"
      },
      "source": [
        "copy_player.columns"
      ],
      "execution_count": null,
      "outputs": [
        {
          "output_type": "execute_result",
          "data": {
            "text/plain": [
              "Index(['games_home', 'games_away', 'players_full_time_away_goals',\n",
              "       'players_half_time_away_goals', 'players_away_shots',\n",
              "       'players_away_shots_on_target', 'players_away_fouls',\n",
              "       'players_away_corners', 'players_away_yellow_cards',\n",
              "       'players_away_red_cards', 'players_away_coef', 'players_Division',\n",
              "       'players_full_time_home_goals', 'players_half_time_home_goals',\n",
              "       'players_home_shots', 'players_home_shots_on_target',\n",
              "       'players_home_fouls', 'players_home_corners',\n",
              "       'players_home_yellow_cards', 'players_home_red_cards',\n",
              "       'players_home_coef'],\n",
              "      dtype='object')"
            ]
          },
          "metadata": {
            "tags": []
          },
          "execution_count": 1973
        }
      ]
    },
    {
      "cell_type": "markdown",
      "metadata": {
        "id": "Wn2nOuWyc1W8"
      },
      "source": [
        "Добавим наши новые признаки в базе:"
      ]
    },
    {
      "cell_type": "code",
      "metadata": {
        "id": "eHhGFJnVbG9M"
      },
      "source": [
        "names_home = ['players_full_time_home_goals', 'players_half_time_home_goals',\n",
        "       'players_home_shots', 'players_home_shots_on_target',\n",
        "       'players_home_fouls', 'players_home_corners',\n",
        "       'players_home_yellow_cards', 'players_home_red_cards',\n",
        "       'players_home_coef']\n",
        "names_away = ['players_full_time_away_goals',\n",
        "       'players_half_time_away_goals', 'players_away_shots',\n",
        "       'players_away_shots_on_target', 'players_away_fouls',\n",
        "       'players_away_corners', 'players_away_yellow_cards',\n",
        "       'players_away_red_cards', 'players_away_coef']"
      ],
      "execution_count": null,
      "outputs": []
    },
    {
      "cell_type": "code",
      "metadata": {
        "id": "j_tMECXAd-YI"
      },
      "source": [
        "df_h = pd.DataFrame()\n",
        "df_a = pd.DataFrame()\n",
        "df_h[names_home] = np.nan\n",
        "df_a[names_away] = np.nan"
      ],
      "execution_count": null,
      "outputs": []
    },
    {
      "cell_type": "code",
      "metadata": {
        "id": "U0FAo1Ek_QMg"
      },
      "source": [
        "for index, row in Priznak_train.iterrows():\n",
        "  home = (players[players['id'] == int(row['home_team'])][names_home])\n",
        "  away = (players[players['id'] == int(row['away_team'])][names_away])\n",
        "  df_h = df_h.append(home, ignore_index=True)\n",
        "  df_a = df_a.append(away, ignore_index=True)"
      ],
      "execution_count": null,
      "outputs": []
    },
    {
      "cell_type": "markdown",
      "metadata": {
        "id": "QXjb_K4u3OsS"
      },
      "source": [
        "# Блок про дележку на блоки:"
      ]
    },
    {
      "cell_type": "code",
      "metadata": {
        "id": "1ZXbXzNQ3ZO2"
      },
      "source": [
        "class Division:\n",
        "  def __init__(self, full_data, number):\n",
        "    self.number = number\n",
        "    self.data = full_data[full_data['Division'] == number].copy()\n",
        "    self.data.reset_index(drop=True, inplace=True)\n",
        "    \n",
        "    self.X = self.data.drop(['is_win', 'is_draw', 'is_lose', 'result', 'full_time_home_goals', 'full_time_away_goals', 'half_time_home_goals', 'half_time_away_goals'], axis = 1)\n",
        "    self.y = self.data[['is_win', 'is_draw', 'is_lose', 'result', 'full_time_home_goals', 'full_time_away_goals', 'half_time_home_goals', 'half_time_away_goals']]\n",
        "    self.Priznak = self.data.copy()\n",
        "    del self.Priznak['result']\n",
        "    self.X_train, self.X_test, self.y_train, self.y_test = train_test_split(self.X, self.y, test_size = 0.15, random_state= 13, shuffle = False)\n",
        "    self.Priznak_train, self.Priznak_test = train_test_split(self.Priznak, test_size = 0.15, random_state= 13, shuffle = False)\n",
        "\n",
        "    del self.Priznak_train['Referee']\n",
        "\n",
        "    "
      ],
      "execution_count": null,
      "outputs": []
    },
    {
      "cell_type": "markdown",
      "metadata": {
        "id": "TB4RFUIc0GuP"
      },
      "source": [
        "# Блок с моделями:"
      ]
    },
    {
      "cell_type": "code",
      "metadata": {
        "id": "qs0FoL1mEs_1"
      },
      "source": [
        "X_real_train = X_train[['Division', 'Time', 'home_team', 'away_team', 'Referee', 'home_coef', 'draw_coef', 'away_coef']]\n",
        "X_real_train.reset_index(drop=True, inplace=True)\n",
        "a = pd.concat([df_h, df_a], axis = 1)\n",
        "a.reset_index(drop=True, inplace=True)\n",
        "X_real_train = pd.concat([X_real_train, a], axis = 1)"
      ],
      "execution_count": null,
      "outputs": []
    },
    {
      "cell_type": "code",
      "metadata": {
        "id": "_SJy5ViPDK_Y"
      },
      "source": [
        "#X_real_train['home_coef_log'] = np.log((X_real_train['home_coef'] - 1) / 10)\n",
        "#X_real_train['home_delta_away'] = (X_real_train['home_coef'] - X_real_train['away_coef']) ** 3\n",
        "#X_real_train['home_delta_draw'] = (X_real_train['home_coef'] - X_real_train['draw_coef']) ** 3\n",
        "#X_real_train['draw_delta_away'] = (X_real_train['draw_coef'] - X_real_train['away_coef']) ** 3\n",
        "#X_real_train['ones'] = X_real_train['home_coef'] ** 0\n",
        "#X_real_train['draw_coef_log'] = np.log((X_real_train['draw_coef'] - 1) / 10)\n",
        "#X_real_train['away_coef_log'] = np.log((X_real_train['away_coef'] - 1) / 10)\n",
        "#X_real_train['player_home_shots_square'] = X_real_train['player_home_shots_on_target'] ** 2\n",
        "#X_real_train['player_away_shots_square'] = X_real_train['player_away_shots_on_target'] ** 2"
      ],
      "execution_count": null,
      "outputs": []
    },
    {
      "cell_type": "code",
      "metadata": {
        "id": "H2h_qNC8kMi1"
      },
      "source": [
        "X_real_train"
      ],
      "execution_count": null,
      "outputs": []
    },
    {
      "cell_type": "code",
      "metadata": {
        "id": "13KXmZsekQPZ"
      },
      "source": [
        "normalized_X=(X_real_train-X_real_train.mean())/X_real_train.std()\n",
        "tX = normalized_X.copy()\n",
        "tX['ans'] = y_train['result']\n",
        "cr = tX.corr()\n",
        "cr"
      ],
      "execution_count": null,
      "outputs": []
    },
    {
      "cell_type": "code",
      "metadata": {
        "id": "IzqOeV2gmFP-"
      },
      "source": [
        "cat = cb.CatBoostClassifier()\n",
        "grid = {'learning_rate': [0.03, 0.05, 0.6, 0.075, 0.875, 0.1, 0.11, 0.125, 0.5, 0.8, 1],\n",
        "        'depth': [3, 4, 5, 6, 7, 8, 9, 10],\n",
        "        'l2_leaf_reg': [0.1, 0.5, 1, 1.6, 1.8, 2, 2.2, 2.4, 2.7, 3, 3.3, 3.5, 4, 5, 7, 9, 11],\n",
        "        'grow_policy': ['SymmetricTree', 'Depthwise', 'Lossguide'],\n",
        "        'auto_class_weights': ['None', 'Balanced', 'SqrtBalanced'],\n",
        "        'od_pval': [0, 0.0000000001, 0.0000001, 0.00001, 0.0001, 0.001, 0.01],\n",
        "        'posterior_sampling': [True, False]}\n",
        "cat.randomized_search(grid, X_real_train, y_train['result'], n_iter = 3, cv = 4)\n",
        "#cat = cat.fit(normalized_X,y_train['result'], verbose=False)"
      ],
      "execution_count": null,
      "outputs": []
    },
    {
      "cell_type": "markdown",
      "metadata": {
        "id": "904RNjFBtCfA"
      },
      "source": [
        "Теперь проделаем аналогичные действия с Тренеровочными данными"
      ]
    },
    {
      "cell_type": "code",
      "metadata": {
        "id": "u6oYPaSttBtZ"
      },
      "source": [
        "df_test_h = pd.DataFrame()\n",
        "df_test_a = pd.DataFrame()\n",
        "df_test_h[names_home] = np.nan\n",
        "df_test_a[names_away] = np.nan"
      ],
      "execution_count": null,
      "outputs": []
    },
    {
      "cell_type": "code",
      "metadata": {
        "id": "lhDc8UkstWET"
      },
      "source": [
        "lst_player_home_shots = []\n",
        "for index, row in Priznak_test.iterrows():\n",
        "  home = (players[players['id'] == int(row['home_team'])][names_home])\n",
        "  away = (players[players['id'] == int(row['away_team'])][names_away])\n",
        "  df_test_h = df_test_h.append(home, ignore_index=True)\n",
        "  df_test_a = df_test_a.append(away, ignore_index=True)"
      ],
      "execution_count": null,
      "outputs": []
    },
    {
      "cell_type": "code",
      "metadata": {
        "id": "ttAUUAYctbRR"
      },
      "source": [
        "X_real_test = X_test[['Division', 'Time', 'home_team', 'away_team', 'Referee', 'home_coef', 'draw_coef', 'away_coef',]]\n",
        "a = pd.concat([df_test_h, df_test_a], axis = 1)\n",
        "X_real_test.reset_index(drop=True, inplace=True)\n",
        "a.reset_index(drop=True, inplace=True)\n",
        "X_real_test = pd.concat([X_real_test, a], axis = 1)"
      ],
      "execution_count": null,
      "outputs": []
    },
    {
      "cell_type": "code",
      "metadata": {
        "id": "7dSwzUeEqFUm"
      },
      "source": [
        "normalized_X_test = (X_real_test-X_real_train.mean())/X_real_train.std()"
      ],
      "execution_count": null,
      "outputs": []
    },
    {
      "cell_type": "code",
      "metadata": {
        "id": "hrIbxMKftwcO"
      },
      "source": [
        "print(cat.score(X_real_train,y_train['result']))"
      ],
      "execution_count": null,
      "outputs": []
    },
    {
      "cell_type": "code",
      "metadata": {
        "id": "qzcIH6-t3NGo"
      },
      "source": [
        "predict = cat.predict_proba(X_real_test)\n",
        "real_result = y_test[['is_lose', 'is_draw', 'is_win']].to_numpy()\n",
        "coefs = X_real_test[['away_coef', 'draw_coef', 'home_coef']].to_numpy()"
      ],
      "execution_count": null,
      "outputs": []
    },
    {
      "cell_type": "code",
      "metadata": {
        "id": "Smx8e17usYXH"
      },
      "source": [
        "def is_put(ver, coeff):\n",
        "  return ver * (coeff - 1) - (1 - ver) > 0.45 and ver > 0.44"
      ],
      "execution_count": null,
      "outputs": []
    },
    {
      "cell_type": "code",
      "metadata": {
        "id": "LD-E74HT5s1K"
      },
      "source": [
        "mx = -10000\n",
        "porogmx = 0\n",
        "for veroy in range(400, 801):\n",
        "  right = 0\n",
        "  coins = 0\n",
        "  all = 0\n",
        "  porog = veroy / 1000\n",
        "  for i in range(predict.shape[0]):\n",
        "    if predict[i][0] > porog:\n",
        "      all += 1\n",
        "      coins -= 1\n",
        "      if real_result[i][0] == 1:\n",
        "        right += 1\n",
        "        coins += coefs[i][0]\n",
        "    elif predict[i][1] > porog:\n",
        "      coins -= 1\n",
        "      all += 1\n",
        "      if real_result[i][1] == 1:\n",
        "        right += 1\n",
        "        coins += coefs[i][1]\n",
        "    elif predict[i][2] > porog:\n",
        "      coins -= 1\n",
        "      all += 1\n",
        "      if real_result[i][2] == 1:\n",
        "        right += 1\n",
        "        coins += coefs[i][2]\n",
        "  if coins > mx:\n",
        "    mx = coins\n",
        "    porogmx = porog\n",
        "print(mx, porogmx)"
      ],
      "execution_count": null,
      "outputs": []
    },
    {
      "cell_type": "code",
      "metadata": {
        "colab": {
          "base_uri": "https://localhost:8080/"
        },
        "id": "eAfOArst89vF",
        "outputId": "e9a1bda4-b25d-494b-88a9-7088d9fe3f11"
      },
      "source": [
        "X_real_test.shape"
      ],
      "execution_count": null,
      "outputs": [
        {
          "output_type": "execute_result",
          "data": {
            "text/plain": [
              "(269, 26)"
            ]
          },
          "metadata": {
            "tags": []
          },
          "execution_count": 1991
        }
      ]
    }
  ]
}